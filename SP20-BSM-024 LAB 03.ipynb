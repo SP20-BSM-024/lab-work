{
 "cells": [
  {
   "cell_type": "code",
   "execution_count": 1,
   "id": "bcf04b02",
   "metadata": {},
   "outputs": [],
   "source": [
    "import numpy as np\n",
    "import matplotlib.pyplot as plt"
   ]
  },
  {
   "cell_type": "code",
   "execution_count": 2,
   "id": "3538b445",
   "metadata": {},
   "outputs": [
    {
     "name": "stdout",
     "output_type": "stream",
     "text": [
      "my name is abuzar\n"
     ]
    }
   ],
   "source": [
    "a = 3\n",
    "b = 3\n",
    "if a==b :\n",
    "    print(\"my name is abuzar\")"
   ]
  },
  {
   "cell_type": "code",
   "execution_count": 3,
   "id": "d2f88145",
   "metadata": {},
   "outputs": [
    {
     "name": "stdout",
     "output_type": "stream",
     "text": [
      "0\n",
      "1\n",
      "2\n",
      "3\n"
     ]
    }
   ],
   "source": [
    "a = 4\n",
    "if a==4 :\n",
    "    for i in range(a):\n",
    "        print(i)"
   ]
  },
  {
   "cell_type": "code",
   "execution_count": 4,
   "id": "9b1626eb",
   "metadata": {},
   "outputs": [
    {
     "data": {
      "text/plain": [
       "52"
      ]
     },
     "execution_count": 4,
     "metadata": {},
     "output_type": "execute_result"
    }
   ],
   "source": [
    "x = 5\n",
    "f = lambda x: 2*x**2+2\n",
    "f(x)"
   ]
  },
  {
   "cell_type": "code",
   "execution_count": 5,
   "id": "290a999b",
   "metadata": {},
   "outputs": [
    {
     "name": "stdout",
     "output_type": "stream",
     "text": [
      "enter x2:10\n"
     ]
    }
   ],
   "source": [
    "# x1 = float(input('enter x1:'))\n",
    "x2 = float(input('enter x2:'))"
   ]
  },
  {
   "cell_type": "code",
   "execution_count": 8,
   "id": "967845a5",
   "metadata": {},
   "outputs": [
    {
     "data": {
      "text/plain": [
       "'x1'"
      ]
     },
     "execution_count": 8,
     "metadata": {},
     "output_type": "execute_result"
    }
   ],
   "source": [
    " 'x1'"
   ]
  },
  {
   "cell_type": "code",
   "execution_count": null,
   "id": "9480c007",
   "metadata": {},
   "outputs": [],
   "source": [
    "Abuzar024"
   ]
  }
 ],
 "metadata": {
  "kernelspec": {
   "display_name": "Python 3 (ipykernel)",
   "language": "python",
   "name": "python3"
  },
  "language_info": {
   "codemirror_mode": {
    "name": "ipython",
    "version": 3
   },
   "file_extension": ".py",
   "mimetype": "text/x-python",
   "name": "python",
   "nbconvert_exporter": "python",
   "pygments_lexer": "ipython3",
   "version": "3.9.7"
  }
 },
 "nbformat": 4,
 "nbformat_minor": 5
}
