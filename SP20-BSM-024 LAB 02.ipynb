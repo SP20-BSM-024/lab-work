{
 "cells": [
  {
   "cell_type": "code",
   "execution_count": 1,
   "id": "f459d9d3",
   "metadata": {},
   "outputs": [],
   "source": [
    "a= \"True\"\n",
    "f= \"False\"\n",
    "c= a and f"
   ]
  },
  {
   "cell_type": "code",
   "execution_count": 2,
   "id": "881f5157",
   "metadata": {},
   "outputs": [
    {
     "name": "stdout",
     "output_type": "stream",
     "text": [
      "False\n"
     ]
    }
   ],
   "source": [
    "print(c)"
   ]
  },
  {
   "cell_type": "code",
   "execution_count": 3,
   "id": "369254f7",
   "metadata": {},
   "outputs": [
    {
     "name": "stdout",
     "output_type": "stream",
     "text": [
      "False\n"
     ]
    }
   ],
   "source": [
    "print (a and f)"
   ]
  },
  {
   "cell_type": "code",
   "execution_count": 4,
   "id": "b685c0d0",
   "metadata": {},
   "outputs": [
    {
     "name": "stdout",
     "output_type": "stream",
     "text": [
      "True\n"
     ]
    }
   ],
   "source": [
    "print (a or f)"
   ]
  },
  {
   "cell_type": "code",
   "execution_count": 5,
   "id": "133a54dd",
   "metadata": {},
   "outputs": [
    {
     "name": "stdout",
     "output_type": "stream",
     "text": [
      "False\n"
     ]
    }
   ],
   "source": [
    "print (not a)"
   ]
  },
  {
   "cell_type": "code",
   "execution_count": 6,
   "id": "6d6c685d",
   "metadata": {},
   "outputs": [
    {
     "name": "stdout",
     "output_type": "stream",
     "text": [
      "True\n"
     ]
    }
   ],
   "source": [
    "print (a !=f)"
   ]
  },
  {
   "cell_type": "code",
   "execution_count": 7,
   "id": "114b6500",
   "metadata": {},
   "outputs": [],
   "source": [
    "a= True\n",
    "f= False\n",
    "g= True"
   ]
  },
  {
   "cell_type": "code",
   "execution_count": 8,
   "id": "22012f81",
   "metadata": {},
   "outputs": [
    {
     "name": "stdout",
     "output_type": "stream",
     "text": [
      "True\n"
     ]
    }
   ],
   "source": [
    "print (a and a and g )"
   ]
  },
  {
   "cell_type": "code",
   "execution_count": 9,
   "id": "c2b2d6eb",
   "metadata": {},
   "outputs": [
    {
     "name": "stdout",
     "output_type": "stream",
     "text": [
      "True\n"
     ]
    }
   ],
   "source": [
    "print (a and f or g)"
   ]
  },
  {
   "cell_type": "code",
   "execution_count": 10,
   "id": "86bf363f",
   "metadata": {},
   "outputs": [
    {
     "name": "stdout",
     "output_type": "stream",
     "text": [
      "True\n"
     ]
    }
   ],
   "source": [
    "print (g !=f)"
   ]
  },
  {
   "cell_type": "code",
   "execution_count": 11,
   "id": "608129da",
   "metadata": {},
   "outputs": [],
   "source": [
    "a= True\n",
    "f= False \n",
    "g= a and f and a or f and a or f\n"
   ]
  },
  {
   "cell_type": "code",
   "execution_count": 12,
   "id": "6db32730",
   "metadata": {},
   "outputs": [
    {
     "name": "stdout",
     "output_type": "stream",
     "text": [
      "False\n"
     ]
    }
   ],
   "source": [
    "a= True\n",
    "b= False\n",
    "c= False \n",
    "g= a and b or c \n",
    "print(g)"
   ]
  },
  {
   "cell_type": "code",
   "execution_count": 13,
   "id": "da7679ae",
   "metadata": {},
   "outputs": [
    {
     "name": "stdout",
     "output_type": "stream",
     "text": [
      "False\n",
      "True\n"
     ]
    }
   ],
   "source": [
    "a= True\n",
    "b= False\n",
    "c= False \n",
    "g= a and b or c \n",
    "p= a or b and c\n",
    "print(g)\n",
    "print(p)"
   ]
  },
  {
   "cell_type": "code",
   "execution_count": 14,
   "id": "987d221f",
   "metadata": {},
   "outputs": [],
   "source": [
    "nums = list(range(5))"
   ]
  },
  {
   "cell_type": "code",
   "execution_count": 15,
   "id": "abb5b454",
   "metadata": {},
   "outputs": [
    {
     "name": "stdout",
     "output_type": "stream",
     "text": [
      "[0, 1, 2, 3, 4]\n"
     ]
    }
   ],
   "source": [
    "print(nums)"
   ]
  },
  {
   "cell_type": "code",
   "execution_count": 16,
   "id": "64767294",
   "metadata": {},
   "outputs": [
    {
     "name": "stdout",
     "output_type": "stream",
     "text": [
      "[2, 3]\n"
     ]
    }
   ],
   "source": [
    "print(nums[2:4])"
   ]
  },
  {
   "cell_type": "code",
   "execution_count": 17,
   "id": "ac418a08",
   "metadata": {},
   "outputs": [
    {
     "name": "stdout",
     "output_type": "stream",
     "text": [
      "[2, 3, 4]\n"
     ]
    }
   ],
   "source": [
    "print(nums[2:])"
   ]
  },
  {
   "cell_type": "code",
   "execution_count": 18,
   "id": "8d710427",
   "metadata": {},
   "outputs": [
    {
     "name": "stdout",
     "output_type": "stream",
     "text": [
      "[0, 1]\n"
     ]
    }
   ],
   "source": [
    "print(nums[:2])"
   ]
  },
  {
   "cell_type": "code",
   "execution_count": 19,
   "id": "f2136bd1",
   "metadata": {},
   "outputs": [
    {
     "name": "stdout",
     "output_type": "stream",
     "text": [
      "[0, 1, 2, 3, 4]\n"
     ]
    }
   ],
   "source": [
    "print(nums[:])"
   ]
  },
  {
   "cell_type": "code",
   "execution_count": 20,
   "id": "01cb73bd",
   "metadata": {},
   "outputs": [
    {
     "name": "stdout",
     "output_type": "stream",
     "text": [
      "[0, 1, 2, 3]\n"
     ]
    }
   ],
   "source": [
    "print(nums[:-1])"
   ]
  },
  {
   "cell_type": "code",
   "execution_count": 21,
   "id": "a29a819e",
   "metadata": {},
   "outputs": [],
   "source": [
    "nums[1:2] = [8,9,5,7,2,4,9]"
   ]
  },
  {
   "cell_type": "code",
   "execution_count": 22,
   "id": "0a58cae6",
   "metadata": {},
   "outputs": [
    {
     "name": "stdout",
     "output_type": "stream",
     "text": [
      "[0, 8, 9, 5, 7, 2, 4, 9, 2, 3, 4]\n"
     ]
    }
   ],
   "source": [
    "print(nums)"
   ]
  },
  {
   "cell_type": "code",
   "execution_count": null,
   "id": "832c2f54",
   "metadata": {},
   "outputs": [],
   "source": []
  }
 ],
 "metadata": {
  "kernelspec": {
   "display_name": "Python 3 (ipykernel)",
   "language": "python",
   "name": "python3"
  },
  "language_info": {
   "codemirror_mode": {
    "name": "ipython",
    "version": 3
   },
   "file_extension": ".py",
   "mimetype": "text/x-python",
   "name": "python",
   "nbconvert_exporter": "python",
   "pygments_lexer": "ipython3",
   "version": "3.9.7"
  }
 },
 "nbformat": 4,
 "nbformat_minor": 5
}
